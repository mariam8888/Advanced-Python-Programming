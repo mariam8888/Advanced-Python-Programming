{
 "cells": [
  {
   "cell_type": "markdown",
   "id": "5e4330c4",
   "metadata": {},
   "source": [
    "# # finding cube root of x<1##"
   ]
  },
  {
   "cell_type": "code",
   "execution_count": 1,
   "id": "2f034f8c",
   "metadata": {},
   "outputs": [
    {
     "name": "stdout",
     "output_type": "stream",
     "text": [
      "num_guesses= 2\n",
      "0.90625 is close to the cube root of 0.75\n"
     ]
    }
   ],
   "source": [
    "cube = 0.75\n",
    "epsilon =0.01\n",
    "num_guesses=0\n",
    "low=cube\n",
    "high=1\n",
    "guess=(high+low)/2.0\n",
    "while abs(guess**3 - cube)>=epsilon:\n",
    "    if guess**3 < cube:\n",
    "        low=guess\n",
    "    else:\n",
    "        high=guess\n",
    "    guess=(high+low)/2.0\n",
    "    num_guesses +=1\n",
    "print('num_guesses=', num_guesses)\n",
    "print(guess, 'is close to the cube root of', cube)"
   ]
  },
  {
   "cell_type": "code",
   "execution_count": 2,
   "id": "3eb25dca",
   "metadata": {},
   "outputs": [
    {
     "name": "stdout",
     "output_type": "stream",
     "text": [
      "num_guesses= 5\n",
      "0.7679687499999999 is close to the cube root of 0.45\n"
     ]
    }
   ],
   "source": [
    "cube = 0.45\n",
    "epsilon =0.01\n",
    "num_guesses=0\n",
    "low=cube\n",
    "high=1\n",
    "guess=(high+low)/2.0\n",
    "while abs(guess**3 - cube)>=epsilon:\n",
    "    if guess**3 < cube:\n",
    "        low=guess\n",
    "    else:\n",
    "        high=guess\n",
    "    guess=(high+low)/2.0\n",
    "    num_guesses +=1\n",
    "print('num_guesses=', num_guesses)\n",
    "print(guess, 'is close to the cube root of', cube)"
   ]
  },
  {
   "cell_type": "code",
   "execution_count": null,
   "id": "b22110af",
   "metadata": {},
   "outputs": [],
   "source": []
  }
 ],
 "metadata": {
  "kernelspec": {
   "display_name": "Python 3 (ipykernel)",
   "language": "python",
   "name": "python3"
  },
  "language_info": {
   "codemirror_mode": {
    "name": "ipython",
    "version": 3
   },
   "file_extension": ".py",
   "mimetype": "text/x-python",
   "name": "python",
   "nbconvert_exporter": "python",
   "pygments_lexer": "ipython3",
   "version": "3.9.7"
  }
 },
 "nbformat": 4,
 "nbformat_minor": 5
}
