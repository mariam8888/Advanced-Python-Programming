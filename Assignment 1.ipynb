{
 "cells": [
  {
   "cell_type": "markdown",
   "id": "fb83f903",
   "metadata": {},
   "source": [
    "# # Swapping numbers##"
   ]
  },
  {
   "cell_type": "code",
   "execution_count": 1,
   "id": "3f2c05a8",
   "metadata": {},
   "outputs": [
    {
     "name": "stdout",
     "output_type": "stream",
     "text": [
      "Before swapping: a=10, b=20\n",
      "After swapping: a=20, b=10\n"
     ]
    }
   ],
   "source": [
    "#Swapping two numbers\n",
    "a=10\n",
    "b=20\n",
    "print(f\"Before swapping: a={a}, b={b}\")\n",
    "c=a\n",
    "a=b\n",
    "b=c\n",
    "print(f\"After swapping: a={a}, b={b}\")\n"
   ]
  },
  {
   "cell_type": "markdown",
   "id": "ea74bbff",
   "metadata": {},
   "source": [
    "# # String operations##"
   ]
  },
  {
   "cell_type": "code",
   "execution_count": 2,
   "id": "77c35916",
   "metadata": {},
   "outputs": [
    {
     "name": "stdout",
     "output_type": "stream",
     "text": [
      "Enter a string: \"Advanced python programming\"\n",
      "Length of user entered string is 29\n",
      "An example of substring for user entered string is: \"Advanced pyth\n",
      "Testing string concatenation : \"Advanced python programming\"\n"
     ]
    }
   ],
   "source": [
    "string=str(input(\"Enter a string: \"))\n",
    "#len\n",
    "l=len(string)\n",
    "print(f\"Length of user entered string is {l}\")\n",
    "\n",
    "#substring - string slicing\n",
    "sub_string=string[0:int(l/2)]\n",
    "print(\"An example of substring for user entered string is: \" + sub_string)\n",
    "\n",
    "#concatenation\n",
    "string2=\"Testing string concatenation : \"\n",
    "fs=string2+ string\n",
    "print(fs)\n"
   ]
  },
  {
   "cell_type": "markdown",
   "id": "a3f1a9e7",
   "metadata": {},
   "source": [
    "# #factorial##\n"
   ]
  },
  {
   "cell_type": "code",
   "execution_count": 3,
   "id": "d1bc4181",
   "metadata": {},
   "outputs": [
    {
     "name": "stdout",
     "output_type": "stream",
     "text": [
      "Enter the number you want factorial for: 45\n",
      "Fcatorial of 45 is 119622220865480194561963161495657715064383733760000000000\n"
     ]
    }
   ],
   "source": [
    "n=int(input(\"Enter the number you want factorial for: \"))\n",
    "f=1\n",
    "for i in range (n):\n",
    "    f=f*(i+1)\n",
    "print(f\"Fcatorial of {n} is {f}\")\n"
   ]
  },
  {
   "cell_type": "markdown",
   "id": "60352c4b",
   "metadata": {},
   "source": [
    "# #Fibonacci series ##"
   ]
  },
  {
   "cell_type": "code",
   "execution_count": 4,
   "id": "22f32d28",
   "metadata": {},
   "outputs": [
    {
     "name": "stdout",
     "output_type": "stream",
     "text": [
      "Enter the number of terms (>0) you want to print: 13\n",
      "0\n",
      "1\n",
      "1\n",
      "2\n",
      "3\n",
      "5\n",
      "8\n",
      "13\n",
      "21\n",
      "34\n",
      "55\n",
      "89\n",
      "144\n"
     ]
    }
   ],
   "source": [
    "n=int(input(\"Enter the number of terms (>0) you want to print: \"))\n",
    "n1=0\n",
    "n2=1\n",
    "c=0\n",
    "while c<n:\n",
    "    print(n1)\n",
    "    n3=n1+n2\n",
    "    n1=n2\n",
    "    n2=n3\n",
    "    c+=1"
   ]
  },
  {
   "cell_type": "code",
   "execution_count": null,
   "id": "5a3eb27d",
   "metadata": {},
   "outputs": [],
   "source": []
  }
 ],
 "metadata": {
  "kernelspec": {
   "display_name": "Python 3 (ipykernel)",
   "language": "python",
   "name": "python3"
  },
  "language_info": {
   "codemirror_mode": {
    "name": "ipython",
    "version": 3
   },
   "file_extension": ".py",
   "mimetype": "text/x-python",
   "name": "python",
   "nbconvert_exporter": "python",
   "pygments_lexer": "ipython3",
   "version": "3.9.7"
  }
 },
 "nbformat": 4,
 "nbformat_minor": 5
}
