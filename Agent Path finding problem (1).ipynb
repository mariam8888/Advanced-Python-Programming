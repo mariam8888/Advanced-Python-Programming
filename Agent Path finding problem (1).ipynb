{
 "cells": [
  {
   "cell_type": "markdown",
   "id": "cc248a54",
   "metadata": {},
   "source": [
    "# AGENT PATH FINDING PROBLEM##"
   ]
  },
  {
   "cell_type": "code",
   "execution_count": 1,
   "id": "4e357c12",
   "metadata": {},
   "outputs": [
    {
     "name": "stdout",
     "output_type": "stream",
     "text": [
      "Requirement already satisfied: mutagen in c:\\users\\maryam\\anaconda3\\lib\\site-packages (1.46.0)\n",
      "Note: you may need to restart the kernel to use updated packages.\n"
     ]
    }
   ],
   "source": [
    "pip install mutagen"
   ]
  },
  {
   "cell_type": "code",
   "execution_count": 2,
   "id": "28288073",
   "metadata": {},
   "outputs": [
    {
     "name": "stdout",
     "output_type": "stream",
     "text": [
      "Requirement already satisfied: pyamaze in c:\\users\\maryam\\anaconda3\\lib\\site-packages (1.0.1)\n",
      "Note: you may need to restart the kernel to use updated packages.\n"
     ]
    }
   ],
   "source": [
    "pip install pyamaze"
   ]
  },
  {
   "cell_type": "code",
   "execution_count": null,
   "id": "443be56e",
   "metadata": {},
   "outputs": [
    {
     "name": "stdout",
     "output_type": "stream",
     "text": [
      "WWWNSENEENNNWWSESWWNNNNNNSSESENNWNNW\n"
     ]
    }
   ],
   "source": [
    "import random\n",
    "from pyamaze import maze, agent, COLOR\n",
    "\n",
    "#Dictionary for directions\n",
    "direction = {'forward': 'N', 'left': 'W', 'back': 'S', 'right': 'E'}\n",
    "\n",
    "#Function for clockwise rotation\n",
    "def RCW():\n",
    "    global direction\n",
    "    k = list(direction.keys())\n",
    "    v = list(direction.values())\n",
    "    v_rotated = [v[-1]] + v[:-1]\n",
    "    direction = dict(zip(k, v_rotated))\n",
    "\n",
    "#function for counter-clockwise rotation\n",
    "def RCCW():\n",
    "    global direction\n",
    "    k = list(direction.keys())\n",
    "    v = list(direction.values())\n",
    "    v_rotated = v[1:] + [v[0]]\n",
    "    direction = dict(zip(k, v_rotated))\n",
    "\n",
    "\n",
    "def moveForward(cell):\n",
    "    if direction['forward'] == 'E':\n",
    "        return (cell[0], cell[1] + 1), 'E'\n",
    "    if direction['forward'] == 'W':\n",
    "        return (cell[0], cell[1] - 1), 'W'\n",
    "    if direction['forward'] == 'N':\n",
    "        return (cell[0] - 1, cell[1]), 'N'\n",
    "    if direction['forward'] == 'S':\n",
    "        return (cell[0] + 1, cell[1]), 'S'\n",
    "\n",
    "\n",
    "def traverse(m):\n",
    "    global direction\n",
    "\n",
    "    currCell = (m.rows, m.cols)\n",
    "    path = ''\n",
    "    while True:\n",
    "\n",
    "        if currCell == (1, 1):\n",
    "            break\n",
    "        if m.maze_map[currCell][direction['left']] == 0:\n",
    "            if m.maze_map[currCell][direction['forward']] == 0:\n",
    "                RCW()\n",
    "            else:\n",
    "                currCell, d = moveForward(currCell)\n",
    "                path += d\n",
    "        else:\n",
    "            RCCW()\n",
    "            currCell, d = moveForward(currCell)\n",
    "            path += d\n",
    "    path2 = path\n",
    "    while 'EW' in path2 or 'WE' in path2 or 'NS' in path2 or 'SN' in path2:\n",
    "        path2 = path2.replace('EW', '')\n",
    "        path2 = path2.replace('WE', '')\n",
    "        path2 = path2.replace('NS', '')\n",
    "        path2 = path2.replace('SN', '')\n",
    "    return path, path2\n",
    "\n",
    "#To create a maze of different size each time\n",
    "x = random.randint(3, 10)\n",
    "y = random.randint(3, 10)\n",
    "myMaze = maze(x, y)\n",
    "myMaze.CreateMaze()\n",
    "\n",
    "#agent\n",
    "b = agent(myMaze, shape='arrow', color=COLOR.yellow)\n",
    "\n",
    "\n",
    "path, path2 = traverse(myMaze)\n",
    "myMaze.tracePath({b: path2})\n",
    "\n",
    "print(path)\n",
    "myMaze.run()\n"
   ]
  },
  {
   "cell_type": "code",
   "execution_count": null,
   "id": "a166ac8c",
   "metadata": {},
   "outputs": [],
   "source": []
  }
 ],
 "metadata": {
  "kernelspec": {
   "display_name": "Python 3 (ipykernel)",
   "language": "python",
   "name": "python3"
  },
  "language_info": {
   "codemirror_mode": {
    "name": "ipython",
    "version": 3
   },
   "file_extension": ".py",
   "mimetype": "text/x-python",
   "name": "python",
   "nbconvert_exporter": "python",
   "pygments_lexer": "ipython3",
   "version": "3.9.7"
  }
 },
 "nbformat": 4,
 "nbformat_minor": 5
}
